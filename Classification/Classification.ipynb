{
 "cells": [
  {
   "cell_type": "code",
   "execution_count": 1,
   "metadata": {
    "id": "t5Tzm6BcL6yv"
   },
   "outputs": [],
   "source": [
    "import tensorflow as tf\n",
    "\n",
    "tf.random.set_seed(0)\n",
    "\n",
    "n_input = 30\n",
    "n_hidden = 10\n",
    "n_output = 1  # binary classification"
   ]
  },
  {
   "cell_type": "code",
   "execution_count": 2,
   "metadata": {
    "id": "iK2LvtyNMSsM"
   },
   "outputs": [
    {
     "name": "stderr",
     "output_type": "stream",
     "text": [
      "2022-03-05 05:29:10.305111: I tensorflow/core/platform/cpu_feature_guard.cc:151] This TensorFlow binary is optimized with oneAPI Deep Neural Network Library (oneDNN) to use the following CPU instructions in performance-critical operations:  SSE3 SSE4.1 SSE4.2 AVX AVX2 FMA\n",
      "To enable them in other operations, rebuild TensorFlow with the appropriate compiler flags.\n",
      "2022-03-05 05:29:10.306289: I tensorflow/core/common_runtime/process_util.cc:146] Creating new thread pool with default inter op setting: 2. Tune using inter_op_parallelism_threads for best performance.\n"
     ]
    }
   ],
   "source": [
    "w1 = tf.Variable(tf.random.normal([n_input, n_hidden]))\n",
    "w2 = tf.Variable(tf.random.normal([n_hidden, n_output]))\n",
    "\n",
    "b1 = tf.Variable(tf.random.normal([n_hidden]))\n",
    "b2 = tf.Variable(tf.random.normal([n_output]))\n",
    "\n",
    "optimizer = tf.optimizers.Adam()"
   ]
  },
  {
   "cell_type": "code",
   "execution_count": 3,
   "metadata": {
    "id": "2O4W992mSQ4E"
   },
   "outputs": [],
   "source": [
    "def forward(x):\n",
    "    hidden = x @ w1 + b1\n",
    "    hidden = tf.nn.tanh(hidden)\n",
    "    logits = hidden @ w2 + b2\n",
    "    prediction = tf.nn.sigmoid(logits)\n",
    "    return prediction\n",
    "\n",
    "\n",
    "@tf.function\n",
    "def step(X, y):\n",
    "    with tf.GradientTape() as tape:\n",
    "        prediction = forward(X)\n",
    "        loss = tf.losses.binary_crossentropy(y_true=y, y_pred=prediction)\n",
    "        loss = tf.reduce_mean(loss)\n",
    "\n",
    "    weights = [w1, b1, w2, b2]\n",
    "    grads = tape.gradient(loss, weights)\n",
    "    optimizer.apply_gradients(zip(grads, weights))\n",
    "    return loss"
   ]
  },
  {
   "cell_type": "code",
   "execution_count": 4,
   "metadata": {
    "colab": {
     "base_uri": "https://localhost:8080/"
    },
    "id": "hnjYc0ozsGSV",
    "outputId": "fb9652b4-e243-4678-a0c9-dc82b6e68c1f"
   },
   "outputs": [
    {
     "data": {
      "text/plain": [
       "((569, 30), (569, 1))"
      ]
     },
     "execution_count": 4,
     "metadata": {},
     "output_type": "execute_result"
    }
   ],
   "source": [
    "from sklearn.datasets import load_breast_cancer\n",
    "\n",
    "X, Y = load_breast_cancer(return_X_y=True)\n",
    "X = X.astype('float32')\n",
    "y = Y.reshape(-1, 1)\n",
    "X.shape, y.shape"
   ]
  },
  {
   "cell_type": "code",
   "execution_count": 5,
   "metadata": {
    "id": "270RF8IWqw_D"
   },
   "outputs": [
    {
     "name": "stdout",
     "output_type": "stream",
     "text": [
      "000 : 0.248778\n",
      "010 : 2.465429\n",
      "020 : 2.424778\n",
      "030 : 2.384185\n",
      "040 : 2.343645\n",
      "050 : 2.303144\n",
      "060 : 2.262675\n",
      "070 : 2.222245\n",
      "080 : 2.181867\n",
      "090 : 2.141542\n",
      "100 : 2.101273\n",
      "110 : 2.061066\n",
      "120 : 2.020927\n",
      "130 : 1.980868\n",
      "140 : 1.940872\n",
      "150 : 1.900526\n",
      "160 : 1.858323\n",
      "170 : 1.816620\n",
      "180 : 1.776935\n",
      "190 : 1.737390\n",
      "200 : 1.698025\n",
      "210 : 1.658861\n",
      "220 : 1.619923\n",
      "230 : 1.581236\n",
      "240 : 1.542834\n",
      "250 : 1.504741\n",
      "260 : 1.466983\n",
      "270 : 1.429583\n",
      "280 : 1.392596\n",
      "290 : 1.356051\n",
      "300 : 1.319979\n",
      "310 : 1.284451\n",
      "320 : 1.249455\n",
      "330 : 1.215138\n",
      "340 : 1.181514\n",
      "350 : 1.148635\n",
      "360 : 1.116564\n",
      "370 : 1.085359\n",
      "380 : 1.055079\n",
      "390 : 1.025778\n",
      "400 : 0.997510\n",
      "410 : 0.970331\n",
      "420 : 0.944298\n",
      "430 : 0.919461\n",
      "440 : 0.895861\n",
      "450 : 0.873530\n",
      "460 : 0.852486\n",
      "470 : 0.832681\n",
      "480 : 0.813842\n",
      "490 : 0.795775\n",
      "500 : 0.778697\n",
      "510 : 0.763527\n",
      "520 : 0.749641\n",
      "530 : 0.736832\n",
      "540 : 0.725163\n",
      "550 : 0.714645\n",
      "560 : 0.704509\n",
      "570 : 0.695616\n",
      "580 : 0.687384\n",
      "590 : 0.679975\n",
      "600 : 0.673270\n",
      "610 : 0.667676\n",
      "620 : 0.662932\n",
      "630 : 0.658880\n",
      "640 : 0.655396\n",
      "650 : 0.652390\n",
      "660 : 0.649800\n",
      "670 : 0.647557\n",
      "680 : 0.645588\n",
      "690 : 0.643806\n",
      "700 : 0.642113\n",
      "710 : 0.640434\n",
      "720 : 0.637993\n",
      "730 : 0.629094\n",
      "740 : 0.626186\n",
      "750 : 0.624515\n",
      "760 : 0.622817\n",
      "770 : 0.621418\n",
      "780 : 0.620178\n",
      "790 : 0.619050\n",
      "800 : 0.618084\n",
      "810 : 0.617269\n",
      "820 : 0.616512\n",
      "830 : 0.615722\n",
      "840 : 0.614303\n",
      "850 : 0.608103\n",
      "860 : 0.603089\n",
      "870 : 0.598899\n",
      "880 : 0.594537\n",
      "890 : 0.590189\n",
      "900 : 0.585995\n",
      "910 : 0.581877\n",
      "920 : 0.577765\n",
      "930 : 0.573756\n",
      "940 : 0.569829\n",
      "950 : 0.565995\n",
      "960 : 0.562267\n",
      "970 : 0.558631\n",
      "980 : 0.555075\n",
      "990 : 0.551591\n",
      "1000 : 0.548176\n",
      "1010 : 0.544824\n",
      "1020 : 0.541530\n",
      "1030 : 0.538283\n",
      "1040 : 0.535069\n",
      "1050 : 0.531885\n",
      "1060 : 0.528754\n",
      "1070 : 0.525693\n",
      "1080 : 0.522697\n",
      "1090 : 0.519759\n",
      "1100 : 0.516867\n",
      "1110 : 0.514016\n",
      "1120 : 0.511195\n",
      "1130 : 0.508390\n",
      "1140 : 0.505577\n",
      "1150 : 0.502709\n",
      "1160 : 0.499637\n",
      "1170 : 0.496208\n",
      "1180 : 0.492504\n",
      "1190 : 0.488768\n",
      "1200 : 0.485753\n",
      "1210 : 0.482992\n",
      "1220 : 0.480407\n",
      "1230 : 0.477931\n",
      "1240 : 0.475511\n",
      "1250 : 0.473140\n",
      "1260 : 0.470834\n",
      "1270 : 0.468595\n",
      "1280 : 0.466415\n",
      "1290 : 0.464284\n",
      "1300 : 0.462194\n",
      "1310 : 0.460140\n",
      "1320 : 0.458119\n",
      "1330 : 0.456130\n",
      "1340 : 0.454170\n",
      "1350 : 0.452240\n",
      "1360 : 0.450337\n",
      "1370 : 0.448462\n",
      "1380 : 0.446613\n",
      "1390 : 0.444791\n",
      "1400 : 0.442993\n",
      "1410 : 0.441221\n",
      "1420 : 0.439473\n",
      "1430 : 0.437748\n",
      "1440 : 0.436047\n",
      "1450 : 0.434369\n",
      "1460 : 0.432713\n",
      "1470 : 0.431078\n",
      "1480 : 0.429464\n",
      "1490 : 0.427870\n",
      "1500 : 0.426295\n",
      "1510 : 0.424735\n",
      "1520 : 0.423187\n",
      "1530 : 0.421635\n",
      "1540 : 0.420025\n",
      "1550 : 0.418119\n",
      "1560 : 0.415690\n",
      "1570 : 0.413190\n",
      "1580 : 0.411062\n",
      "1590 : 0.409127\n",
      "1600 : 0.407035\n",
      "1610 : 0.404838\n",
      "1620 : 0.402780\n",
      "1630 : 0.400943\n",
      "1640 : 0.399181\n",
      "1650 : 0.397417\n",
      "1660 : 0.395826\n",
      "1670 : 0.394377\n",
      "1680 : 0.392856\n",
      "1690 : 0.391005\n",
      "1700 : 0.389036\n",
      "1710 : 0.387241\n",
      "1720 : 0.385592\n",
      "1730 : 0.384016\n",
      "1740 : 0.382452\n",
      "1750 : 0.380793\n",
      "1760 : 0.379019\n",
      "1770 : 0.377117\n",
      "1780 : 0.375116\n",
      "1790 : 0.373017\n",
      "1800 : 0.371097\n",
      "1810 : 0.369338\n",
      "1820 : 0.366913\n",
      "1830 : 0.363179\n",
      "1840 : 0.359257\n",
      "1850 : 0.356708\n",
      "1860 : 0.354623\n",
      "1870 : 0.351572\n",
      "1880 : 0.347819\n",
      "1890 : 0.344197\n",
      "1900 : 0.341478\n",
      "1910 : 0.337791\n",
      "1920 : 0.333763\n",
      "1930 : 0.331406\n",
      "1940 : 0.328987\n",
      "1950 : 0.326813\n",
      "1960 : 0.324851\n",
      "1970 : 0.321906\n",
      "1980 : 0.318877\n",
      "1990 : 0.297071\n"
     ]
    }
   ],
   "source": [
    "losses = []\n",
    "for i in range(2000):\n",
    "    loss = step(X, y)\n",
    "    losses.append(loss)\n",
    "    if i % 10 == 0:\n",
    "        print(\"{:03d} : {:08.6f}\".format(i, sum(losses[-10:]) / 10))"
   ]
  },
  {
   "cell_type": "code",
   "execution_count": 6,
   "metadata": {
    "colab": {
     "base_uri": "https://localhost:8080/",
     "height": 320
    },
    "id": "j0oDgRa7rVpz",
    "outputId": "0b165d8e-4b7d-4d59-96c2-9c1b6beefbc0"
   },
   "outputs": [
    {
     "data": {
      "image/png": "[encoded data removed]",
      "text/plain": [
       "<Figure size 720x360 with 1 Axes>"
      ]
     },
     "metadata": {
      "needs_background": "light"
     },
     "output_type": "display_data"
    }
   ],
   "source": [
    "import matplotlib.pyplot as plt\n",
    "\n",
    "plt.figure(figsize=(10, 5))\n",
    "plt.plot(losses)\n",
    "plt.savefig('loss.jpg', bbox_inches='tight')"
   ]
  },
  {
   "cell_type": "code",
   "execution_count": null,
   "metadata": {
    "id": "tvlk7yeDtzJt"
   },
   "outputs": [],
   "source": []
  }
 ],
 "metadata": {
  "colab": {
   "name": "TF2-MLP-Classification.ipynb",
   "provenance": []
  },
  "kernelspec": {
   "display_name": "Python 3 (ipykernel)",
   "language": "python",
   "name": "python3"
  },
  "language_info": {
   "codemirror_mode": {
    "name": "ipython",
    "version": 3
   },
   "file_extension": ".py",
   "mimetype": "text/x-python",
   "name": "python",
   "nbconvert_exporter": "python",
   "pygments_lexer": "ipython3",
   "version": "3.10.1"
  }
 },
 "nbformat": 4,
 "nbformat_minor": 1
}
