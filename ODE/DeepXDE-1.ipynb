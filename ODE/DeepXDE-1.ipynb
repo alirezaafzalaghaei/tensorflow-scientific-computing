{
 "cells": [
  {
   "cell_type": "code",
   "execution_count": null,
   "metadata": {
    "colab": {
     "base_uri": "https://localhost:8080/"
    },
    "id": "W1Q7F_yJzGlu",
    "outputId": "3a1eb755-95a7-4227-92c3-2365681d1daf"
   },
   "outputs": [],
   "source": [
    "!pip install deepxde --upgrade"
   ]
  },
  {
   "cell_type": "code",
   "execution_count": null,
   "metadata": {
    "id": "Qb9jiPLqzLZ4"
   },
   "outputs": [],
   "source": [
    "import deepxde as dde\n",
    "import numpy as np"
   ]
  },
  {
   "cell_type": "code",
   "execution_count": null,
   "metadata": {
    "id": "FRdcEip6zU5l"
   },
   "outputs": [],
   "source": [
    "def residual(x, y):    \n",
    "    y = y[:, 0:1]\n",
    "    dy_x = dde.grad.jacobian(y, x, i=0)\n",
    "    return [dy_x - y]"
   ]
  },
  {
   "cell_type": "code",
   "execution_count": null,
   "metadata": {
    "id": "dKTFekX7zimS"
   },
   "outputs": [],
   "source": [
    "def boundary(_, on_initial):\n",
    "    return on_initial\n",
    "\n",
    "geom = dde.geometry.TimeDomain(0, 1)\n",
    "ic = dde.icbc.IC(geom, lambda x: 1, boundary)"
   ]
  },
  {
   "cell_type": "code",
   "execution_count": null,
   "metadata": {
    "colab": {
     "base_uri": "https://localhost:8080/",
     "height": 1000
    },
    "id": "KKJV5iiJzzeF",
    "outputId": "eba10359-095f-4f27-b7b4-b3074dc308f5"
   },
   "outputs": [],
   "source": [
    "def exact(x): # for verification\n",
    "    return np.hstack((np.exp(x), ))\n",
    "\n",
    "data = dde.data.PDE(geom, residual, [ic], num_boundary=2, solution=exact, num_domain=10, num_test=100)"
   ]
  },
  {
   "cell_type": "code",
   "execution_count": null,
   "metadata": {
    "colab": {
     "base_uri": "https://localhost:8080/",
     "height": 1000
    },
    "id": "KKJV5iiJzzeF",
    "outputId": "eba10359-095f-4f27-b7b4-b3074dc308f5"
   },
   "outputs": [],
   "source": [
    "layer_size = [1] + [10] + [1]\n",
    "activation = \"tanh\"\n",
    "initializer = \"Glorot uniform\"\n",
    "net = dde.nn.FNN(layer_size, activation, initializer)"
   ]
  },
  {
   "cell_type": "code",
   "execution_count": null,
   "metadata": {
    "colab": {
     "base_uri": "https://localhost:8080/",
     "height": 1000
    },
    "id": "KKJV5iiJzzeF",
    "outputId": "eba10359-095f-4f27-b7b4-b3074dc308f5"
   },
   "outputs": [],
   "source": [
    "model = dde.Model(data, net)\n",
    "model.compile(\"adam\", lr=0.1, metrics=[\"l2 relative error\"])\n",
    "losshistory, train_state = model.train(epochs=1000)"
   ]
  },
  {
   "cell_type": "code",
   "execution_count": null,
   "metadata": {},
   "outputs": [],
   "source": [
    "dde.saveplot(losshistory, train_state, issave=True, isplot=True)"
   ]
  }
 ],
 "metadata": {
  "colab": {
   "name": "DeepXDE-simple.ipynb",
   "provenance": []
  },
  "kernelspec": {
   "display_name": "Python 3 (ipykernel)",
   "language": "python",
   "name": "python3"
  },
  "language_info": {
   "codemirror_mode": {
    "name": "ipython",
    "version": 3
   },
   "file_extension": ".py",
   "mimetype": "text/x-python",
   "name": "python",
   "nbconvert_exporter": "python",
   "pygments_lexer": "ipython3",
   "version": "3.10.1"
  }
 },
 "nbformat": 4,
 "nbformat_minor": 1
}
